{
  "nbformat": 4,
  "nbformat_minor": 0,
  "metadata": {
    "colab": {
      "name": "Final.ipynb",
      "provenance": [],
      "collapsed_sections": []
    },
    "kernelspec": {
      "name": "python3",
      "display_name": "Python 3"
    }
  },
  "cells": [
    {
      "cell_type": "code",
      "metadata": {
        "id": "FDX9onjZfC5U",
        "colab_type": "code",
        "colab": {}
      },
      "source": [
        "import numpy as np\n",
        "import pandas as pd\n",
        "import librosa , time, itertools, functools\n",
        "import matplotlib.pyplot as plt\n",
        "from sklearn.pipeline import Pipeline\n",
        "from sklearn.svm import SVC , LinearSVC\n",
        "from sklearn.preprocessing import StandardScaler\n",
        "from sklearn.base import BaseEstimator, TransformerMixin\n",
        "from sklearn.preprocessing import LabelEncoder\n",
        "from sklearn.model_selection import train_test_split\n",
        "import glob, os, json, gzip, fnmatch\n",
        "from sklearn.ensemble import RandomForestClassifier, VotingClassifier\n",
        "from sklearn.decomposition import PCA\n",
        "from scipy import signal\n",
        "from sklearn.metrics import classification_report, accuracy_score\n",
        "from sklearn.metrics import confusion_matrix\n",
        "from python_speech_features import mfcc, ssc\n",
        "from sklearn.feature_selection import RFE, SelectFromModel\n",
        "from sklearn.cluster import KMeans\n",
        "from sklearn import metrics\n",
        "import scikitplot as skplt"
      ],
      "execution_count": 27,
      "outputs": []
    },
    {
      "cell_type": "code",
      "metadata": {
        "id": "dN0hEKmzhG5n",
        "colab_type": "code",
        "colab": {}
      },
      "source": [
        "class LoadAudio(object):\n",
        "    def __init__(self, path):\n",
        "        self.path = path\n",
        "        self.sample_rate = 22050\n",
        "        self.labels = []\n",
        "        self.ages = []\n",
        "        self.data = []\n",
        "    \n",
        "\n",
        "    def read_folder(self, dir):\n",
        "        audio_directions = []\n",
        "        for root, _ , files in os.walk(self.path+'/'+dir):\n",
        "            for filename in files:\n",
        "                if fnmatch.fnmatch(filename , \"*.csv\") or fnmatch.fnmatch(filename , \"*.xlsx\"):\n",
        "                    csv_direction = root+'/'+filename\n",
        "                elif not fnmatch.fnmatch(filename , \"*.DS_Store\"):\n",
        "                    audio_directions.append(root+'/'+filename)\n",
        "        return csv_direction, audio_directions\n",
        "\n",
        "    def validate(self):\n",
        "        if self.csv_file.shape[1] != 3:\n",
        "            return False\n",
        "        return True\n",
        "\n",
        "    def read_csv(self, dir):\n",
        "        if dir.split('.',1)[1] == 'csv':\n",
        "            data = pd.read_csv(dir, encoding = \"ISO-8859-1\", error_bad_lines=False, warn_bad_lines=False)\n",
        "        else:\n",
        "            data = pd.read_excel(dir, encoding = \"ISO-8859-1\", error_bad_lines=False)\n",
        "        # for a few files that have Nan values\n",
        "        data = data.dropna(thresh=3)\n",
        "        data = data.dropna(axis='columns', thresh=4).values\n",
        "        return data\n",
        "\n",
        "    def get_csv_data(self):\n",
        "        return list(self.csv_file[:, 0]), self.determine_gender(self.csv_file[:, 1]), self.csv_file[:, 2]\n",
        "\n",
        "    def find_acceptable_folders(self, dir):\n",
        "        available_folders = os.listdir(dir)\n",
        "        acceptable_folders = set(list(map(str, self.csv_folders))).intersection(available_folders)\n",
        "        return list(acceptable_folders)\n",
        "\n",
        "    \n",
        "    def get_audio_folder_index(self, direction, idx):\n",
        "        indices = list(filter(lambda x: direction[x].rsplit('/', 2)[1] == idx, range(len(direction))))    \n",
        "        return indices     \n",
        "\n",
        "\n",
        "    def get_files(self, directions):\n",
        "        audio_dir = []\n",
        "        label = []\n",
        "        age = []\n",
        "        for f in self.acceptable_folders:\n",
        "            audio_idx = self.get_audio_folder_index(directions, f)\n",
        "            csv_idx = self.csv_folders.index(int(f))\n",
        "            audio_dir.extend([directions[idx] for idx in audio_idx])\n",
        "            [label.append(self.csv_gender[csv_idx]) for i in range(len(audio_idx))]\n",
        "            [age.append(self.csv_bd[csv_idx]) for i in range(len(audio_idx))]\n",
        "        return audio_dir, label, age\n",
        "        \n",
        "\n",
        "\n",
        "    def determine_gender(self, rows):\n",
        "        gender = []\n",
        "        for elem in list(map(str, rows)):\n",
        "            if elem.find('F')!=-1 or elem.find('f')!=-1 or elem.find('1')!=-1:\n",
        "                gender.append('Female')\n",
        "            else:\n",
        "                gender.append('Male')\n",
        "        return gender\n",
        "\n",
        "\n",
        "    def load_audio(self, x):\n",
        "        y, sr = librosa.load(x, sr=self.sample_rate, duration=6)\n",
        "        return y[3*sr:]\n",
        "\n",
        " \n",
        "    def save_data(self, dir):\n",
        "        l = [x.tolist() for x in self.signal]\n",
        "        with gzip.GzipFile(self.path_to_save+'/'+dir+'.json', 'w') as fout:\n",
        "            fout.write(json.dumps(l).encode('utf-8'))  \n",
        "      \n",
        "\n",
        "    def process_data(self):\n",
        "        folders = os.listdir(self.path)\n",
        "        num_of_folders_to_load = len(folders)-1\n",
        "\n",
        "        print(f'loading {num_of_folders_to_load} folders ... \\n')\n",
        "        for i in range(num_of_folders_to_load):\n",
        "            csv_dir, audio_dir = self.read_folder(folders[i])\n",
        "            self.csv_file = self.read_csv(csv_dir)\n",
        "            if not self.validate():\n",
        "                print(f'reading folder {folders[i]}...\\t bad data, skipping this folder\\n')\n",
        "                continue\n",
        "            self.csv_folders, self.csv_gender, self.csv_bd = self.get_csv_data()\n",
        "            self.acceptable_folders = self.find_acceptable_folders(self.path+'/'+folders[i])\n",
        "            audio_file, labels, ages = self.get_files(audio_dir)\n",
        "            signal = np.array(list(map(self.load_audio, audio_file)))\n",
        "            self.data.extend(signal)\n",
        "            self.labels.extend(labels)\n",
        "            self.ages.extend(ages)\n",
        "            print(f'reading folder {folders[i]}...\\t ✓ \\n')\n",
        "        print(\"Done loading data \\n\")\n",
        "        return self"
      ],
      "execution_count": 15,
      "outputs": []
    },
    {
      "cell_type": "code",
      "metadata": {
        "id": "w4tMu23-gzYu",
        "colab_type": "code",
        "colab": {}
      },
      "source": [
        "def plot_confusion_matrix(cm, classes, normalize=False\n",
        "    , title='Confusion matrix', cmap=plt.cm.Blues):\n",
        "\n",
        "    if normalize:\n",
        "        plt.rcParams[\"figure.figsize\"] = [7,7]\n",
        "        cm = cm.astype('float') / cm.sum(axis=1)[:, np.newaxis]\n",
        "        print(\"Normalized confusion matrix\")\n",
        "    else:\n",
        "        pass\n",
        "        \n",
        "\n",
        "    plt.imshow(cm, interpolation='nearest', cmap=cmap)\n",
        "    plt.title(title)\n",
        "    plt.colorbar()\n",
        "    tick_marks = np.arange(len(classes))\n",
        "    plt.xticks(tick_marks, classes, rotation=30)\n",
        "    plt.yticks(tick_marks, classes)\n",
        "\n",
        "    fmt = '.2f' if normalize else 'd'\n",
        "    thresh = cm.max() / 2.\n",
        "    for i, j in itertools.product(range(cm.shape[0]), range(cm.shape[1])):\n",
        "        plt.text(j, i, format(cm[i, j], fmt),\n",
        "                 horizontalalignment=\"center\",\n",
        "                 color=\"white\" if cm[i, j] > thresh else \"black\")\n",
        "\n",
        "    plt.tight_layout()\n",
        "    plt.ylabel('True label')\n",
        "    plt.xlabel('Predicted label')\n"
      ],
      "execution_count": 16,
      "outputs": []
    },
    {
      "cell_type": "code",
      "metadata": {
        "id": "tI_b-v6WNzUb",
        "colab_type": "code",
        "colab": {}
      },
      "source": [
        "class FeatureExtractor(BaseEstimator, TransformerMixin):\n",
        "    def __init__(self, num_of_ffts = 1024):\n",
        "        self.sr = 22050\n",
        "        self.nfft = num_of_ffts\n",
        "        self.winlen = 0.015\n",
        "        self.num_of_mfcc = 20\n",
        "        self.num_of_ssc = 48\n",
        "        self.features = None\n",
        "   \n",
        "\n",
        "    def get_mfcc(self, signal):\n",
        "        mfccs = mfcc(signal, samplerate = self.sr,  winlen=self.winlen,\n",
        "            numcep =self.num_of_mfcc, nfilt=2*self.num_of_mfcc, nfft=self.nfft)\n",
        "        feature = np.mean(mfccs, axis=0)\n",
        "        return feature\n",
        "\n",
        "    def get_ssc(self, signal):\n",
        "        sscs = ssc(signal, samplerate=self.sr, winlen=self.winlen, \n",
        "            nfilt=self.num_of_ssc, nfft=self.nfft)\n",
        "        feature = np.mean(sscs, axis=0)\n",
        "        return feature\n",
        "\n",
        "    def get_feature(self, signal):\n",
        "        f1 = np.array(list(map(self.get_mfcc, signal)))\n",
        "        f2 = np.array(list(map(self.get_ssc, signal)))\n",
        "        return np.concatenate((f1, f2), axis=1)\n",
        "\n",
        "    def butter_bandpass(self, lowcut, highcut, fs, order):\n",
        "        nyq = 0.5 * fs\n",
        "        low = lowcut / nyq\n",
        "        high = highcut / nyq\n",
        "        b, a = signal.butter(order, [low, high], btype='band')\n",
        "        return b, a\n",
        "\n",
        "    def butter_bandpass_filter(self, data, lowcut, highcut, fs, order):\n",
        "        b, a = self.butter_bandpass(lowcut, highcut, fs, order=order)\n",
        "        y = signal.filtfilt(b, a, data)\n",
        "        return y\n",
        "    \n",
        "    def filter(self):\n",
        "        filtered = list(map(functools.partial(self.butter_bandpass_filter, lowcut= self.lf, \n",
        "            highcut=self.hf, fs=self.sr, order=self.order), self.signal))\n",
        "      \n",
        "        return filtered\n",
        "\n",
        "\n",
        "    \n",
        "    def fit(self, X, y=None):\n",
        "        self.order = 5\n",
        "        self.lf = 300\n",
        "        self.hf = 8000\n",
        "        return self\n",
        "    \n",
        "    def transform(self, X, y=None):\n",
        "        self.signal = [np.array(x) for x in X]\n",
        "        self.filtered_signal = self.filter()\n",
        "        self.features = self.get_feature(self.filtered_signal)\n",
        "        return self.features\n"
      ],
      "execution_count": 13,
      "outputs": []
    },
    {
      "cell_type": "code",
      "metadata": {
        "id": "OiWu0uWk5Kl1",
        "colab_type": "code",
        "colab": {}
      },
      "source": [
        "def remove_bad_data(x, y, z):\n",
        "    bad_data = []\n",
        "    for i in range(len(x)):\n",
        "        if len(x[i]) == 0:\n",
        "            bad_data.append(i)\n",
        "    x = np.delete(x, bad_data)\n",
        "    y = np.delete(y, bad_data)\n",
        "    z = np.delete(z, bad_data)\n",
        "    return x,y,z\n",
        "\n",
        "def convert_bd(birth_date):\n",
        "    if len(str(birth_date)) == 2:\n",
        "        birth_date = 1399 - birth_date\n",
        "    return birth_date\n",
        "\n",
        "def non_shuffling_train_test_split(X, y, z, test_size=0.25):\n",
        "    i = int(test_size * X.shape[0]) \n",
        "    X_test, X_train = np.split(X, [i])\n",
        "    y_test, y_train = np.split(y, [i])\n",
        "    z_test, z_train = np.split(z, [i])\n",
        "    return X_train, X_test, y_train, y_test, z_train, z_test"
      ],
      "execution_count": 14,
      "outputs": []
    },
    {
      "cell_type": "code",
      "metadata": {
        "id": "ala5Mm2ZhL_I",
        "colab_type": "code",
        "colab": {
          "base_uri": "https://localhost:8080/",
          "height": 622
        },
        "outputId": "d07d32e2-19fc-43c5-b781-6a11c0c8c471"
      },
      "source": [
        "path_of_dataset = '/content/drive/My Drive/dataset/Data_Upload'\n",
        "loader = LoadAudio(path_of_dataset).process_data()"
      ],
      "execution_count": 19,
      "outputs": [
        {
          "output_type": "stream",
          "text": [
            "loading 16 folders ... \n",
            "\n",
            "reading folder 02...\t ✓ \n",
            "\n",
            "reading folder 03...\t ✓ \n",
            "\n",
            "reading folder 05...\t ✓ \n",
            "\n",
            "reading folder 06...\t ✓ \n",
            "\n",
            "reading folder 08...\t ✓ \n",
            "\n",
            "reading folder 09...\t ✓ \n",
            "\n",
            "reading folder 12...\t ✓ \n",
            "\n",
            "reading folder 14...\t ✓ \n",
            "\n",
            "reading folder 16...\t ✓ \n",
            "\n",
            "reading folder 17...\t ✓ \n",
            "\n",
            "reading folder 01...\t bad data, skipping this folder\n",
            "\n",
            "reading folder 04...\t bad data, skipping this folder\n",
            "\n",
            "reading folder 07...\t ✓ \n",
            "\n",
            "reading folder 10...\t ✓ \n",
            "\n",
            "reading folder 11...\t ✓ \n",
            "\n",
            "reading folder 13...\t ✓ \n",
            "\n",
            "Done loading data \n",
            "\n"
          ],
          "name": "stdout"
        }
      ]
    },
    {
      "cell_type": "code",
      "metadata": {
        "id": "rtnj1cCRxvx4",
        "colab_type": "code",
        "colab": {}
      },
      "source": [
        "data = loader.data\n",
        "labels = np.array(loader.labels)\n",
        "ages = np.array(loader.ages)\n",
        "data = np.array(data)\n",
        "encoded_label = LabelEncoder().fit_transform(labels)\n",
        "ages = list(map(convert_bd, ages))"
      ],
      "execution_count": 42,
      "outputs": []
    },
    {
      "cell_type": "code",
      "metadata": {
        "id": "Cciqj9QDqaRI",
        "colab_type": "code",
        "colab": {
          "base_uri": "https://localhost:8080/",
          "height": 308
        },
        "outputId": "2a98acf0-df46-4886-a123-b3a78bf69a14"
      },
      "source": [
        "fig, (ax1, ax2) = plt.subplots(1, 2, figsize=(12,4))\n",
        "fig.suptitle('data distribution')\n",
        "\n",
        "ax1.hist(x=ages, bins='auto')\n",
        "ax1.grid(True)\n",
        "ax1.set_xlabel('Age')\n",
        "\n",
        "ax2.hist(x=labels, bins='auto')\n",
        "ax2.grid(True)\n",
        "ax2.set_xlabel('Gender')\n",
        "plt.show()"
      ],
      "execution_count": 21,
      "outputs": [
        {
          "output_type": "display_data",
          "data": {
            "image/png": "[encoded data removed]",
            "text/plain": [
              "<Figure size 864x288 with 2 Axes>"
            ]
          },
          "metadata": {
            "tags": [],
            "needs_background": "light"
          }
        }
      ]
    },
    {
      "cell_type": "code",
      "metadata": {
        "id": "NzEL8f7fzf1k",
        "colab_type": "code",
        "colab": {}
      },
      "source": [
        "class_names = [\"Female\", \"Male\"]\n",
        "data, encoded_label, ages = remove_bad_data(data, encoded_label, ages)\n",
        "X_train, X_test, y_train, y_test, age_train, age_test = non_shuffling_train_test_split(\n",
        "   data, encoded_label, ages, test_size=0.25)"
      ],
      "execution_count": 80,
      "outputs": []
    },
    {
      "cell_type": "code",
      "metadata": {
        "id": "q7spvq3UhwS1",
        "colab_type": "code",
        "colab": {
          "base_uri": "https://localhost:8080/",
          "height": 202
        },
        "outputId": "4d90c5b0-aabf-4947-bc48-56bd2863a681"
      },
      "source": [
        "eclf = VotingClassifier(estimators=[('rf', RandomForestClassifier()), \n",
        "    ('svm', SVC(probability=True))], voting='soft')\n",
        "\n",
        "pipe = Pipeline([('feature_extractor', FeatureExtractor()), ('scaler', StandardScaler()),\n",
        "('reduce_dim', PCA()), ('feature_selector', RFE(RandomForestClassifier(),\n",
        "    n_features_to_select=50)), ('clf', eclf)])\n",
        "\n",
        "pipe.fit(X_train, y_train)\n",
        "pred = pipe.predict(X_test)\n",
        "print(classification_report(y_test, pred, target_names=[\"Female\", \"Male\"]))\n",
        "print(f'accuracy: {round(accuracy_score(y_test, pred), 2)*100}% \\n')"
      ],
      "execution_count": 81,
      "outputs": [
        {
          "output_type": "stream",
          "text": [
            "              precision    recall  f1-score   support\n",
            "\n",
            "      Female       0.93      0.88      0.90       319\n",
            "        Male       0.86      0.92      0.89       261\n",
            "\n",
            "    accuracy                           0.90       580\n",
            "   macro avg       0.90      0.90      0.90       580\n",
            "weighted avg       0.90      0.90      0.90       580\n",
            "\n",
            "accuracy: 90.0% \n",
            "\n"
          ],
          "name": "stdout"
        }
      ]
    },
    {
      "cell_type": "code",
      "metadata": {
        "id": "CFgmkHOSizJp",
        "colab_type": "code",
        "colab": {
          "base_uri": "https://localhost:8080/",
          "height": 295
        },
        "outputId": "da0b31e6-b6f9-4dc6-8030-07e12c663caa"
      },
      "source": [
        "proba = pipe.predict_proba(X_test)\n",
        "skplt.metrics.plot_roc(y_test, proba)\n",
        "plt.show()"
      ],
      "execution_count": 37,
      "outputs": [
        {
          "output_type": "display_data",
          "data": {
            "image/png": "[encoded data removed]",
            "text/plain": [
              "<Figure size 432x288 with 1 Axes>"
            ]
          },
          "metadata": {
            "tags": [],
            "needs_background": "light"
          }
        }
      ]
    },
    {
      "cell_type": "code",
      "metadata": {
        "id": "uIrqcPtD7jOD",
        "colab_type": "code",
        "colab": {
          "base_uri": "https://localhost:8080/",
          "height": 311
        },
        "outputId": "214178cd-50ab-4107-fd08-c2337857633e"
      },
      "source": [
        "plot_confusion_matrix(confusion_matrix(y_test, pred), classes=class_names, title='Confusion matrix')\n",
        "plt.show()"
      ],
      "execution_count": 39,
      "outputs": [
        {
          "output_type": "display_data",
          "data": {
            "image/png": "[encoded data removed]",
            "text/plain": [
              "<Figure size 432x288 with 2 Axes>"
            ]
          },
          "metadata": {
            "tags": [],
            "needs_background": "light"
          }
        }
      ]
    },
    {
      "cell_type": "markdown",
      "metadata": {
        "id": "mRdq3gam2p4o",
        "colab_type": "text"
      },
      "source": [
        "Clustering\n"
      ]
    },
    {
      "cell_type": "code",
      "metadata": {
        "id": "W1LHZM_Ul6Yc",
        "colab_type": "code",
        "colab": {}
      },
      "source": [
        "pipe = Pipeline([('feature_extractor', FeatureExtractor()), ('scaler', StandardScaler()),\n",
        "('reduce_dim', PCA()), ('feature_selector', RFE(RandomForestClassifier(),\n",
        "    n_features_to_select=50)), ('kmeans', KMeans(n_clusters=2))])\n",
        "pipe.fit(X_test, y_test)\n",
        "pred = pipe['kmeans'].labels_\n",
        "indices = [np.where(pred==l)[0] for l in np.unique(pred)]\n",
        "gender_dist = [labels[idx] for idx in indices]\n",
        "age_dist = [ages[idx] for idx in indices]"
      ],
      "execution_count": 64,
      "outputs": []
    },
    {
      "cell_type": "code",
      "metadata": {
        "id": "jwd7SJdRybwj",
        "colab_type": "code",
        "colab": {
          "base_uri": "https://localhost:8080/",
          "height": 279
        },
        "outputId": "ecd151f9-61de-4aff-ab0a-5d3282c3a6de"
      },
      "source": [
        "fig = plt.figure(figsize=(9,4))\n",
        "for i in range(2):\n",
        "    ax = fig.add_subplot(1,2, i + 1)\n",
        "    ax.hist(x=gender_dist[i], bins='auto')\n",
        "    ax.grid(True)\n",
        "    ax.set_xlabel(f'cluster {i+1}')\n"
      ],
      "execution_count": 69,
      "outputs": [
        {
          "output_type": "display_data",
          "data": {
            "image/png": "[encoded data removed]",
            "text/plain": [
              "<Figure size 648x288 with 2 Axes>"
            ]
          },
          "metadata": {
            "tags": [],
            "needs_background": "light"
          }
        }
      ]
    },
    {
      "cell_type": "code",
      "metadata": {
        "id": "SVr8dhaP-5_W",
        "colab_type": "code",
        "colab": {}
      },
      "source": [
        ""
      ],
      "execution_count": null,
      "outputs": []
    }
  ]
}